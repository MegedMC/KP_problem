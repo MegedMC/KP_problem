{
 "cells": [
  {
   "cell_type": "code",
   "execution_count": 99,
   "metadata": {},
   "outputs": [],
   "source": [
    "import numpy\n",
    "import matplotlib.pyplot as plt\n",
    "%matplotlib inline\n",
    "import math\n",
    "import scipy.optimize as opt\n",
    "import scipy.integrate as integrate\n",
    "import scipy.special\n",
    "import cmath\n",
    "from IPython.display import clear_output\n",
    "a = 0.5             #width of a well\n",
    "b = 0.5             #width of a barrier\n",
    "V = 20.0             #height of a barrier\n",
    "N = 150           #fragmentation of Brillouin zone from 0 to pi/(a+b)\n",
    "N_r = 40        #fragmentation of lattice (for counting integrals in F)\n",
    "A_SC = 2.39                #parameter in SC kernel\n",
    "alph = 0.01                 #another parameter in SC\n",
    "A_contact = 3.77            #parameter in contact kernel\n",
    "A_LR = 15.                  #parameter in long-range kernel \n",
    "Volume = math.sqrt(N)*(a+b)\n",
    "E_down = lambda E: math.cos(math.sqrt(2*E)*a) * math.cosh(b * math.sqrt(2 * V - 2 * E)) + \\\n",
    "                   (V / (2*E) - 1.) / math.sqrt(V/E - 1.) * math.sinh(math.sqrt(2*V - 2*E)*b) * \\\n",
    "                    math.sin(math.sqrt(2*E)*a) - math.cos(k * (a+b))\n",
    "E_up = lambda E: math.cos(math.sqrt(2*E)*a) * math.cos(b * math.sqrt(2 * E - 2 * V)) + \\\n",
    "                   (V / (2*E) - 1.) / math.sqrt(1. - V/E) * math.sin(math.sqrt(2*E - 2*V)*b) * \\\n",
    "                    math.sin(math.sqrt(2*E)*a) - math.cos(k * (a+b))\n",
    "k_map = numpy.arange(0,N) * 2. * math.pi/(a+b)/N - math.pi/(a+b)\n",
    "#k_map = numpy.linspace(-math.pi/(a+b),math.pi/(a+b),N)\n",
    "r_map = numpy.arange(0,N_r) * (a+b) / N_r - b\n",
    "#r_map = numpy.linspace(-b,a,N_r)\n",
    "for i in range (0, N_r):\n",
    "    if (r_map[i]<=0):\n",
    "        N_b = i\n",
    "h = r_map[1] - r_map[0]\n",
    "A1_v = numpy.zeros(N, dtype = complex)\n",
    "A2_v = numpy.zeros(N, dtype = complex)\n",
    "A1_c = numpy.zeros(N, dtype = complex)\n",
    "A2_c = numpy.zeros(N, dtype = complex)\n",
    "map = numpy.zeros((N,6))\n",
    "fi = numpy.zeros((numpy.size(r_map),N,2), dtype = complex)\n",
    "F = numpy.zeros((N,N), dtype = complex)\n",
    "F_buf = numpy.zeros((numpy.size(r_map),N), dtype = complex)\n",
    "Func_buf = numpy.zeros((numpy.size(r_map)), dtype = complex)\n",
    "Func = numpy.zeros((numpy.size(r_map)), dtype = complex)"
   ]
  },
  {
   "cell_type": "markdown",
   "metadata": {},
   "source": [
    "В столбцах массива *map* хранится следующая информация: энергия E, $\\sqrt{2E}$, $\\sqrt{2V-2E}$, причем столбцы 0 и 3 - это E для валентной зоны и зоны проводимости соответственно, 1 и 4 - $\\sqrt{2E}$, 2 и 5 - $\\sqrt{2V-2E}$ для v и c-зон соответственно. Номер строки соответсвует такому же по порядку значению из массива k_map\n",
    "\n",
    "В массиве *fi* будет храниться значение волновой функции, первая координата соответсвует пространственное положение, вторая координата отвечает за значение волнового вектора, третья отвечает за зону и равна 0 для валентной и 1 для проводимости\n",
    "\n",
    "В массиве *Id* хранится информация о том, как соотносится энергии E и V (чтобы понимать, по какой формуле считать связь между k и E: если V>E, то используем формулу E_down, если V<E, то E_up): для E>V Id=0, для E<V Id=1. Первая координата массива *Id* означает волновое число, вторая определяет зону так же, как и в массиве *fi*"
   ]
  },
  {
   "cell_type": "markdown",
   "metadata": {},
   "source": [
    "Ниже выводится график зонной структуры. Так же здесь заполняется матрица Id. Программа строитзонную структуру по точкам E, по возрастанию (рассчитывая для каждой E соответствующее значенеи k). Как только k не может быть раситано по причине того, что значение косинуса должно по модулю превысить 1, начинается запрещенная зона. По порядковому номеру такого перехода определяется номер предшетсвующей зоны. Нас интересуют зоны 2 (валентная) и 3 (проводимости).\n",
    "Построение зонной структуры происходит по формуле \n",
    "$$\n",
    "cos (ka+kb) = cos (\\sqrt{2 \\epsilon} a) ch (\\sqrt{2V_0 - 2\\epsilon} b) + \\frac{\\frac{V_0}{2\\epsilon} - 1}{\\sqrt{ \\frac{V}{\\epsilon} - 1}} sin (\\sqrt{2 \\epsilon} a) sh (\\sqrt{2V_0-2\\epsilon} b) \n",
    "$$\n",
    "в случае V>E, и \n",
    "\\begin{equation}\n",
    "cos (ka+kb) = cos (\\sqrt{2 \\epsilon} a) cos (\\sqrt{2\\epsilon - 2 V_0} b) + \\frac{\\frac{V_0}{2\\epsilon} - 1}{\\sqrt{1 - \\frac{V}{\\epsilon}}} sin (\\sqrt{2 \\epsilon} a) sin (\\sqrt{2\\epsilon - 2 V_0} b) \n",
    "\\end{equation}\n",
    "если V<E"
   ]
  },
  {
   "cell_type": "code",
   "execution_count": 100,
   "metadata": {},
   "outputs": [
    {
     "name": "stdout",
     "output_type": "stream",
     "text": [
      "('Gap from ', 28.48, ' to ', 32.94)\n",
      "[6.44, 7.7, 19.92, 28.48, 32.94, 53.099999999999994]\n"
     ]
    },
    {
     "data": {
      "image/png": "[encoded data removed]",
      "text/plain": [
       "<Figure size 432x288 with 1 Axes>"
      ]
     },
     "metadata": {
      "needs_background": "light"
     },
     "output_type": "display_data"
    }
   ],
   "source": [
    "Func_down = lambda E: math.cos(math.sqrt(2*E)*a) * math.cosh(b * math.sqrt(2 * V - 2 * E)) + \\\n",
    "                   (V / (2*E) - 1.) / math.sqrt(V/E - 1.) * math.sinh(math.sqrt(2*V - 2*E)*b) * \\\n",
    "                    math.sin(math.sqrt(2*E)*a)\n",
    "Func_up = lambda E: math.cos(math.sqrt(2*E)*a) * math.cos(b * math.sqrt(2 * E - 2 * V)) + \\\n",
    "                   (V / (2*E) - 1.) / math.sqrt(1. - V/E) * math.sin(math.sqrt(2*E - 2*V)*b) * \\\n",
    "                    math.sin(math.sqrt(2*E)*a)\n",
    "checker = False\n",
    "E_border = []\n",
    "D = 1000\n",
    "Id = numpy.zeros((N,2), dtype=int)\n",
    "for i in range (1,D):\n",
    "    E = i * V / D\n",
    "    Efunc = Func_down(E)\n",
    "    if math.fabs(Efunc) <= 1:\n",
    "        if (checker == False):\n",
    "            E_border.append(E)\n",
    "            checker = True\n",
    "        k = math.acos(Efunc) / (a+b)\n",
    "        plt.plot(k, E, 'k.', marker='.', linestyle='dashed', linewidth=2,markersize=1)  \n",
    "        k = -math.acos(Efunc) / (a + b)\n",
    "        plt.plot(k, E, 'k.', marker='.', linestyle='dashed', linewidth=2, markersize=1)\n",
    "    if math.fabs(Efunc) >1:\n",
    "        if (checker == True):\n",
    "            E_border.append(E-V/D)\n",
    "            checker = False\n",
    "M = len(E_border)\n",
    "Anchor = numpy.zeros(4)\n",
    "if (checker == False):\n",
    "    if (M > 3):\n",
    "        for i in range (0, N):\n",
    "            Id[i,0] = 1\n",
    "    if (M > 5):\n",
    "        for i in range (0, N):\n",
    "            Id[i,1] = 1\n",
    "else:\n",
    "    k_border = math.acos(Func_down(V*0.9999999999999))/(a+b)\n",
    "    if (M==3):\n",
    "        for i in range (0,N):\n",
    "            k = k_map[i]\n",
    "            if (abs(k)>k_border):\n",
    "                Id[i,0] = 1\n",
    "    elif (M==5):\n",
    "        for i in range (0,N):\n",
    "            k = k_map[i]\n",
    "            if (abs(k)<k_border):\n",
    "                Id[i,1] = 1\n",
    "            Id[i,0] = 1\n",
    "    elif (M > 5):\n",
    "        for i in range (0,N):\n",
    "            Id[i,0] = 1\n",
    "            Id[i,1] = 1\n",
    "count = 0\n",
    "Ml = M\n",
    "while (Ml<6):\n",
    "    for i in range (int(D + D * 0.1 * count) + 1,int(D*1.1 + D * 0.1 * count)):\n",
    "        E = i * V / D\n",
    "        Efunc = Func_up(E)\n",
    "        if math.fabs(Efunc) <= 1:\n",
    "            if (checker == False):\n",
    "                E_border.append(E)\n",
    "                checker = True\n",
    "            k = math.acos(Efunc) / (a+b)\n",
    "            plt.plot(k, E, 'k.', marker='.', linestyle='dashed', linewidth=2,markersize=1)  \n",
    "            k = -math.acos(Efunc) / (a + b)\n",
    "            plt.plot(k, E, 'k.', marker='.', linestyle='dashed', linewidth=2, markersize=1)\n",
    "        if math.fabs(Efunc) >1:\n",
    "            if (checker == True):\n",
    "                E_border.append(E-V/D)\n",
    "                checker = False\n",
    "    count = count + 1\n",
    "    Ml = len(E_border)\n",
    "if  (M==3):\n",
    "    Anchor[0] = V * 0.99999\n",
    "    Anchor[1] = V * 1.00001\n",
    "    Anchor[2] = (E_border[4]+E_border[5])/2.\n",
    "    Anchor[3] = Anchor[2]\n",
    "elif (M==5):\n",
    "    Anchor[2] = V * 0.99999\n",
    "    Anchor[3] = V * 1.00001\n",
    "    Anchor[0] = (E_border[2]+E_border[3])/2.\n",
    "    Anchor[1] = Anchor[0]\n",
    "elif (M==2):\n",
    "    Anchor[1] = V * 1.00001\n",
    "    Anchor[2] = (E_border[4]+E_border[5])/2.\n",
    "    Anchor[3] = Anchor[2]\n",
    "else:\n",
    "    Anchor[0] = (E_border[2]+E_border[3])/2.\n",
    "    Anchor[1] = Anchor[0]\n",
    "    Anchor[2] = (E_border[4]+E_border[5])/2.\n",
    "    Anchor[3] = Anchor[2]\n",
    "print('Gap from ', E_border[3], ' to ', E_border[4])\n",
    "print(E_border)\n",
    "plt.show()"
   ]
  },
  {
   "cell_type": "markdown",
   "metadata": {},
   "source": [
    "В следующем блоке считаются значения волновой функции *fi* в узловых точках по прямой и обратной ячейке решетки.\n",
    "\n",
    "\\begin{equation}\n",
    "\\begin{cases}\n",
    "   \\psi_{k1} (x) =   A_1 sin(\\sqrt{2\\epsilon} x) + A_2 cos ( \\sqrt{2\\epsilon} x) &\\text{0 < x < a}\\\\\n",
    "   \\psi_{k2} (x) = A_1 \\frac{\\sqrt{2\\epsilon}}{\\sqrt{2V-2\\epsilon}} sh(\\sqrt{2\\epsilon-2V_0} x) + A_2 ch( \\sqrt{2\\epsilon-2V_0} x) &\\text{-b < x < 0}\n",
    " \\end{cases}\n",
    "\\end{equation}\n",
    "\n",
    "Для простоты эту систему будем записывать теперь в виде\n",
    "\n",
    "\\begin{equation}\n",
    "\\begin{cases}\n",
    "   \\psi_{k1} (x) =   A_1 f_1 + A_2 f_2 &\\text{0 < x < a}\\\\\n",
    "   \\psi_{k2} (x) = A_1 g_1 + A_2 g_2 &\\text{-b < x < 0}\n",
    " \\end{cases}\n",
    "\\end{equation}\n",
    "\n",
    "Связь между коэффициентами $A_1, A_2$ будем находить из граничного условия на волновую функцию в внешних границах ячейки: $x=-b, x=a$, где периодическая блоховская компонента волновой функции $u_k(x)=\\psi_k(x) e^{-ikx}$ должна принимать одно и то же значение. Математически это условие приводит нас к уравнению на $A_2$ при условии, что $A_1$ мы принимаем за единицу $A_1 = 1$\n",
    "\n",
    "\\begin{equation}\n",
    "A_2 = \\frac{sin(\\sqrt{2E} a) e^{-ik(a+b)}+\\frac{\\sqrt{2E}}{\\sqrt{2V-2E}} sh(\\sqrt{2V-2E}b)}{ch(\\sqrt{2V-2E}b) - \\\n",
    "e^{-ik(a+b)}cos(\\sqrt{2E}a)}\n",
    "\\end{equation}\n",
    "\n",
    "Условие нормировки волновой функции на 1:\n",
    "\n",
    "\\begin{equation}\n",
    "\\int_{-b}^a |\\Psi^2| dx \\frac{1}{a+b} = 1 = \\frac{1}{a+b} \\int_{-b}^0 (A_1 g_1 + A_2 g_2) (A_1^* g_1 + A_2^* g_2) dx + \\frac{1}{a+b} \\int_0^a (A_1 f_1 + A_2 f_2) (A_1^* f_1 + A_2^* f_2) dx\n",
    "\\end{equation}\n",
    "\n",
    "\\begin{equation}\n",
    " 1 = \\frac{1}{a+b}(|A_1|^2 (\\int_{-b}^0 g_1^2 dx + \\int_0^a f_1^2 dx) + |A_2|^2 (\\int_{-b}^0 g_2^2 dx + \\int_0^a f_2^2 dx) + (A_1 A_2^* + A_1^* A_2) (\\int_{-b}^0 g_1 g_2 dx + \\int_0^a f_1 f_2 dx))\n",
    " \\end{equation}\n",
    " \n",
    " Обознаив сумму интегралов после $|A_1|^2$ за $n_a$ (в коде это norm\\_a), после $|A_2|^2$ за $n_b$ (в коде norm\\_b), а после $(A_1^* A_2 + A_1 A_2^*)$ за $n_c$ (в коде norm\\_c), получаем уравнение\n",
    " \n",
    " \\begin{equation}\n",
    "(|A_1|^2 n_a + |A_2|^2 n_b + (A_1^* A_2 + A_1 A_2^*) n_c) \\frac{1}{a+b} = 1\n",
    " \\end{equation}\n",
    " \n",
    "Подстановка ненормированных $A_1$ и $A_2$ в это выражение, скорее всего, даст не 1, а некое отличное от единицы выражение norm. Нормировка волновых функций заключится в делении констант $A_1$ и $A_2$ на $\\sqrt{norm}$\n",
    "\n",
    "Интегралы в $n_a$, $n_b$, $n_c$  легко берутся аналитически:\n",
    " \n",
    "  \\begin{equation}\n",
    "n_a = -\\frac{sin(2 \\sqrt{2 \\epsilon } a)}{4 \\sqrt{2 \\epsilon}} + a/2 +\n",
    "\\frac{\\epsilon}{2V - 2\\epsilon} [\\frac{sh(2b\\sqrt{2V - 2\\epsilon}}{2\\sqrt{2V-2\\epsilon}} - b]\n",
    " \\end{equation}\n",
    " \n",
    "   \\begin{equation}\n",
    "n_b = \\frac{sin(2 \\sqrt{2 \\epsilon } a)}{4 \\sqrt{2 \\epsilon}} + a/2 +\n",
    "\\frac{sh(2b\\sqrt{2V - 2\\epsilon}}{4\\sqrt{2V-2\\epsilon}} + b/2 \n",
    " \\end{equation}\n",
    " \n",
    "   \\begin{equation}\n",
    "n_c = \\frac{sin^2(a\\sqrt{2\\epsilon})}{2\\sqrt{2\\epsilon}} - \\frac{\\sqrt{2\\epsilon}}{4V - 4\\epsilon} sh^2 (b\\sqrt{2V - 2\\epsilon})\n",
    " \\end{equation}"
   ]
  },
  {
   "cell_type": "code",
   "execution_count": 101,
   "metadata": {},
   "outputs": [],
   "source": [
    "for i in range (0,N):\n",
    "    k = k_map[i]\n",
    "    if (Id[i,0] == 1):\n",
    "        l = opt.fsolve(E_down, Anchor[0])\n",
    "    else:\n",
    "        l = opt.fsolve(E_up, Anchor[1])   \n",
    "    map[i,0] = l[0]\n",
    "    if (Id[i,1] == 1):\n",
    "        l = opt.fsolve(E_down, Anchor[2])\n",
    "    else:\n",
    "        l = opt.fsolve(E_up, Anchor[3])\n",
    "    map[i,3] = l[0]\n",
    "    map[i,1] = math.sqrt(2 * map[i,0])\n",
    "    if (Id[i,0] == 0):\n",
    "        map[i, 2] = math.sqrt(2 * map[i,0] - 2*V)\n",
    "    else:\n",
    "        map[i, 2] = math.sqrt(2 * V - 2 * map[i, 0])\n",
    "    map[i,4] = math.sqrt(2 * map[i,3])\n",
    "    if (Id[i,1] == 0):\n",
    "        map[i,5] = math.sqrt(2 * map[i,3] - 2 * V)\n",
    "    else:\n",
    "        map[i, 5] = math.sqrt(2 * V - 2 * map[i, 3])\n",
    "    if (Id[i,0] == 0):\n",
    "        norm_a = a / 2. - math.sin(2 * map[i, 1] * a) / (4 * map[i, 1]) \\\n",
    "                  + map[i, 0] / (2 * map[i, 0]- 2 * V) * (-math.sin(2 * b * map[i, 2]) / (2. * map[i, 2]) + b)\n",
    "        norm_b = a / 2. + math.sin(2 * map[i, 1] * a) / (4 * map[i, 1]) \\\n",
    "                  + b / 2. + math.sin(2 * b * map[i, 2]) / (4 * map[i, 2])\n",
    "        norm_c = (math.sin(a * map[i, 1])) ** 2 / (2. * map[i, 1]) \\\n",
    "                  - map[i, 1] / (4 * map[i, 0] - 4 * V) * (math.sin(b * map[i, 2])) **2\n",
    "        A2_v[i] = (cmath.exp(-1.j * k_map[i] *(a+b))*math.sin(map[i,1]*a)+map[i,1]/map[i,2]*math.sin(map[i,2]*b))\\\n",
    "        /(math.cos(map[i,2]*b) - cmath.exp(-1.j*k_map[i]*(a+b))*math.cos(map[i,1]*a))\n",
    "    else:\n",
    "        norm_a = a / 2. - math.sin(2 * map[i, 1] * a) / (4 * map[i, 1]) \\\n",
    "                      + map[i, 0] / (2 * V - 2 * map[i, 0]) * (math.sinh(2 * b * map[i, 2]) / (2. * map[i, 2]) - b)\n",
    "        norm_b = a / 2. + math.sin(2 * map[i, 1] * a) / (4 * map[i, 1]) \\\n",
    "                      + b / 2. + math.sinh(2 * b * map[i, 2]) / (4 * map[i, 2])\n",
    "        norm_c = (math.sin(a * map[i, 1])) ** 2 / (2. * map[i, 1]) \\\n",
    "                      - map[i, 1] / (4 * V - 4 * map[i, 0]) * (math.sinh(b * map[i, 2])) ** 2\n",
    "        A2_v[i] = (cmath.exp(-1.j * k_map[i] *(a+b))*math.sin(map[i,1]*a)+map[i,1]/map[i,2]*math.sinh(map[i,2]*b))\\\n",
    "        /(math.cosh(map[i,2]*b) - cmath.exp(-1.j*k_map[i]*(a+b))*math.cos(map[i,1]*a))\n",
    "    \n",
    "    norm = (norm_a + norm_b*(abs(A2_v[i]))**2 + norm_c * A2_v[i] + norm_c * A2_v[i].conjugate())/(a+b)\n",
    "    A1_v[i] = 1./cmath.sqrt(norm)\n",
    "    A2_v[i] = A2_v[i]/cmath.sqrt(norm)\n",
    "    if (Id[i,1] == 0):\n",
    "        norm_a = a / 2. - math.sin(2 * map[i, 4] * a) / (4 * map[i, 4]) \\\n",
    "                  + map[i, 3] / (2 * map[i, 3]- 2 * V) * (-math.sin(2 * b * map[i, 5]) / (2. * map[i, 5]) + b)\n",
    "        norm_b = a / 2. + math.sin(2 * map[i, 4] * a) / (4 * map[i, 4]) \\\n",
    "                  + b / 2. + math.sin(2 * b * map[i, 5]) / (4 * map[i, 5])\n",
    "        norm_c = (math.sin(a * map[i, 4])) ** 2 / (2. * map[i, 4]) \\\n",
    "                  - map[i, 4] / (4 * map[i, 3] - 4 * V) * (math.sin(b * map[i, 5])) **2\n",
    "        A2_c[i] = (cmath.exp(-1.j * k_map[i] *(a+b))*math.sin(map[i,4]*a)+map[i,4]/map[i,5]*math.sin(map[i,5]*b))\\\n",
    "            / (math.cos(map[i,5]*b) - cmath.exp(-1.j*k_map[i]*(a+b))*math.cos(map[i,4]*a))\n",
    "    else:\n",
    "        norm_a = a / 2. - math.sin(2 * map[i, 4] * a) / (4 * map[i, 4]) \\\n",
    "                      + map[i, 3] / (2 * V - 2 * map[i, 3]) * (math.sinh(2 * b * map[i, 5]) / (2. * map[i, 5]) - b)\n",
    "        norm_b = a / 2. + math.sin(2 * map[i, 4] * a) / (4 * map[i, 4]) \\\n",
    "                      + b / 2. + math.sinh(2 * b * map[i, 5]) / (4 * map[i, 5])\n",
    "        norm_c = (math.sin(a * map[i, 4])) ** 2 / (2. * map[i, 4]) \\\n",
    "                      - map[i, 4] / (4 * V - 4 * map[i, 3]) * (math.sinh(b * map[i, 5])) ** 2\n",
    "        A2_c[i] = (cmath.exp(-1.j * k_map[i] *(a+b))*math.sin(map[i,4]*a)+map[i,4]/map[i,5]*math.sinh(map[i,5]*b))\\\n",
    "            / (math.cosh(map[i,5]*b) - cmath.exp(-1.j*k_map[i]*(a+b))*math.cos(map[i,4]*a))\n",
    "    norm = (norm_a + norm_b*(abs(A2_c[i]))**2 + norm_c*A2_c[i] + norm_c*A2_c[i].conjugate())/(a+b)\n",
    "    A1_c[i] = 1./cmath.sqrt(norm)\n",
    "    A2_c[i] = A2_c[i]/cmath.sqrt(norm)\n",
    "\n",
    "\n",
    "for i in range (0, N_b):\n",
    "    for j in range (0,N):\n",
    "        if (Id[j,0] == 0):\n",
    "            fi[i, j, 0] = A1_v[j] * math.sin(map[j, 2] *r_map[i]) * map[j, 1] / map[j, 2] \\\n",
    "            + A2_v[j] * math.cos(map[j, 2] * r_map[i])\n",
    "        else:\n",
    "            fi[i, j, 0] = A1_v[j] * math.sinh(map[j, 2] * r_map[i]) * map[j, 1] / map[j, 2] \\\n",
    "            + A2_v[j] * math.cosh(map[j, 2] * r_map[i])\n",
    "        if (Id[j,1] == 0):\n",
    "            fi[i, j, 1] = A1_c[j] * math.sin(map[j, 5] * r_map[i]) * map[j, 4] / map[j, 5] \\\n",
    "            + A2_c[j] * math.cos(map[j, 5] * r_map[i])\n",
    "        else:\n",
    "            fi[i, j, 1] = A1_c[j] * math.sinh(map[j, 5] * r_map[i]) * map[j, 4] / map[j, 5] \\\n",
    "            + A2_c[j] * math.cosh(map[j, 5] * r_map[i])\n",
    "\n",
    "for i in range (N_b, N_r):\n",
    "    for j in range (0,N):\n",
    "        fi[i, j, 0] = A1_v[j] * math.sin(map[j, 1] * r_map[i]) + A2_v[j] * math.cos(map[j, 1] * r_map[i])\n",
    "        fi[i, j, 1] = A1_c[j] * math.sin(map[j, 4] * r_map[i]) + A2_c[j] * math.cos(map[j, 4] * r_map[i])"
   ]
  },
  {
   "cell_type": "markdown",
   "metadata": {},
   "source": [
    "(Не обязателен) В следующем блоке проверяется, что полученные волновые функции удовлетворяют граничному условию $u_k'(a)=u_k'(-b)$, где $u_k(x)$ - периодическая компонента волновой функции в форме Блоха\n",
    "\n",
    "Выводится модуль разности $\\Delta = u_k'(a)-u_k'(-b)$. Если он маленький для всех значений волнового вектора, то все в порядке. Левый столбец содержит дельты для функций из валентной зоны, правый - проводимости"
   ]
  },
  {
   "cell_type": "markdown",
   "metadata": {},
   "source": [
    "(Не обязателен) В следующем блоке проверяется, что полученные волновые функции нормированы на единицу. Левый столбец содержит нормы для функций из валентной зоны, правый - проводимости\n",
    "\n",
    "Норма считается как $\\frac{1}{a+b}\\int_{-b}^a |\\psi_k^i(r)|^2 dr$ , где i - номер зоны"
   ]
  },
  {
   "cell_type": "code",
   "execution_count": 102,
   "metadata": {},
   "outputs": [
    {
     "name": "stdout",
     "output_type": "stream",
     "text": [
      "enlarge N_r\n"
     ]
    }
   ],
   "source": [
    "check = numpy.zeros(N_r)\n",
    "checker = True\n",
    "for j in range (0,N):\n",
    "    check = abs(fi[:,j,0])**2\n",
    "    sum1 = integrate.trapz(check,x=None,dx=h)/(a+b)\n",
    "    check = abs(fi[:,j,1])**2\n",
    "    sum2 = integrate.trapz(check,x=None,dx=h)/(a+b)\n",
    "    if (abs(1. - sum1) > 0.001):\n",
    "        checker = False\n",
    "    if (abs(1. - sum2) > 0.001):\n",
    "        checker = False\n",
    "        \n",
    "if checker == True:\n",
    "    print('OK')\n",
    "else:\n",
    "    print('enlarge N_r')"
   ]
  },
  {
   "cell_type": "markdown",
   "metadata": {},
   "source": [
    "(Опционально) Этот блок считает $F^{vcvc}$ посредством Soft-Colomb ядра $f_{xc}^{SC}(x,x')=\\frac{-A^{SC}}{\\sqrt{\\alpha+(x-x')^2}}$\n",
    "\n",
    "Само F определяется как $F_{HXC,\\bf{k},\\bf{k'}}^{ijmn} = \\frac{2}{\\Omega^2} \\int_{\\Omega} d r\\int_{\\Omega} d r'\\phi_{i,\\bf{k}}^*(\\bf{r}) \\phi_{j,\\bf{k}}^*(\\bf{r}) f_{HXC} (\\bf{r}, \\bf{r'}, \\omega) \\phi_{m,\\bf{k'}}^*(\\bf{r'}) \\phi_{n,\\bf{k'}}^*(\\bf{r'})$; здесь $\\Omega$ - размер одномерной ячейки"
   ]
  },
  {
   "cell_type": "code",
   "execution_count": 103,
   "metadata": {},
   "outputs": [
    {
     "name": "stdout",
     "output_type": "stream",
     "text": [
      "(100, '% done of counting F')\n"
     ]
    }
   ],
   "source": [
    "for i in range (0,N):\n",
    "    for j in range (0,N):\n",
    "        if (i<=j):\n",
    "            for x in range (0, N_r):\n",
    "                for r in range (0, N_r):\n",
    "                    Func_buf[r] = - fi[r, j, 0] * fi[r, j, 1].conjugate() * A_SC / math.sqrt((r_map[x] - r_map[r]) ** 2 + alph)\n",
    "                Func[x] = integrate.trapz(Func_buf,x=None,dx=h) * fi[x,i,0].conjugate() * fi[x,i,1]\n",
    "            F[i,j] = integrate.trapz(Func,x=None,dx=h) * 2 / Volume**2\n",
    "    clear_output(wait=True)\n",
    "    print(int((i+1) * 100. / N), \"% done of counting F\")\n",
    "for i in range (0,N):\n",
    "    for j in range (0,N):\n",
    "        if (i>j):\n",
    "            F[i,j] = F[j,i]"
   ]
  },
  {
   "cell_type": "markdown",
   "metadata": {},
   "source": [
    "(Опционально) Этот блок считает F посредством контактного ядра $f_{xc}^{cont}(x,x')=-A^{cont}\\delta (x-x')$"
   ]
  },
  {
   "cell_type": "code",
   "execution_count": 95,
   "metadata": {},
   "outputs": [
    {
     "name": "stdout",
     "output_type": "stream",
     "text": [
      "(100, '% done of counting F')\n"
     ]
    }
   ],
   "source": [
    "for i in range (0,N):\n",
    "    for j in range (0,N):\n",
    "        if (i<=j):\n",
    "            for x in range (0, N_r):\n",
    "                Func_buf[x] =  -fi[x, j, 0] * fi[x, j, 1].conjugate() * A_contact * fi[x,i,0].conjugate() * fi[x,i,1]\n",
    "            F[i,j] = integrate.trapz(Func_buf,x=None,dx=h) * 2 / Volume**2\n",
    "    clear_output(wait=True)\n",
    "    print(int((i+1) * 100. / N), \"% done of counting F\")\n",
    "for i in range (0,N):\n",
    "    for j in range (0,N):\n",
    "        if (i>j):\n",
    "            F[i,j] = F[j,i]"
   ]
  },
  {
   "cell_type": "markdown",
   "metadata": {},
   "source": [
    "Экспериментальное ядро (нестабильно к изменению разбиения по прямой ячейке - скорее всего, из-за искуственного зануления функции в бесконечности)"
   ]
  },
  {
   "cell_type": "code",
   "execution_count": 139,
   "metadata": {},
   "outputs": [
    {
     "name": "stdout",
     "output_type": "stream",
     "text": [
      "(100, '% done of counting F')\n"
     ]
    }
   ],
   "source": [
    "for i in range (0,N):\n",
    "    for j in range (0,N):\n",
    "        if (i<=j):\n",
    "            for x in range (0, N_r):\n",
    "                for r in range (0, N_r):\n",
    "                    if (x == r):\n",
    "                        fxc = 0.\n",
    "                    else:\n",
    "                        fxc = A_LR / (4 * math.pi * abs(r_map[x]-r_map[r]))\n",
    "                    Func_buf[r] = - fi[r, j, 0] * fi[r, j, 1].conjugate() * fxc\n",
    "                Func[x] = integrate.simps(Func_buf,x=None,dx=h) * fi[x,i,0].conjugate() * fi[x,i,1]\n",
    "            F[i,j] = integrate.simps(Func,x=None,dx=h) * 2 / Volume**2\n",
    "    clear_output(wait=True)\n",
    "    print(int((i+1) * 100. / N), \"% done of counting F\")\n",
    "for i in range (0,N):\n",
    "    for j in range (0,N):\n",
    "        if (i>j):\n",
    "            F[i,j] = F[j,i]"
   ]
  },
  {
   "cell_type": "markdown",
   "metadata": {},
   "source": [
    "Здесь выводится матрца F(k,k'), а потом решается уравнение (21) как задача на поиск собственных векторов."
   ]
  },
  {
   "cell_type": "code",
   "execution_count": 104,
   "metadata": {},
   "outputs": [
    {
     "name": "stdout",
     "output_type": "stream",
     "text": [
      "[ 4.3605698   4.44274359  4.45913085  4.51581263  4.53809562  4.64472993\n",
      "  4.66689438  4.82128053  4.84173543  5.03968657  5.05802707  5.29452361\n",
      "  5.31085457  5.58067848  5.59536628  5.89350827  5.90703034  6.22893771\n",
      "  6.24177144  6.58347414  6.5960222   6.95416445  6.96672244  7.33852602\n",
      "  7.35128606  7.73447539  7.74754828  8.14026413  8.15370475  8.55442374\n",
      "  8.56825188  8.97571857  8.98993376  9.40310607  9.4176971   9.8357033\n",
      "  9.85065415 10.27275919 10.28805251 10.71363162 10.72925069 11.15776859\n",
      " 11.17369838 11.60469282 11.62092044 12.05398907 12.07050398 12.50529378\n",
      " 12.5220878  12.95828661 12.97535378 13.41268336 13.43001982 13.8682302\n",
      " 13.88583403 14.32469883 14.34256994 14.7818825  14.80002241 15.23959259\n",
      " 15.25800439 15.69765584 15.71634402 16.1559119  16.17488229 16.61421134\n",
      " 16.63347102 17.07241385 17.0919711  17.53038678 17.55025105 17.98800382\n",
      " 18.00818568 18.44514385 18.46565499 18.90168993 18.92254316 19.35752843\n",
      " 19.37873768 19.81254815 19.83412852 20.26663962 20.28860738 20.71969435\n",
      " 20.74206706 21.17160417 21.19440072 21.62226059 21.64550126 22.07155406\n",
      " 22.09526068 22.5193733  22.54356938 22.96560455 22.99031542 23.41013069\n",
      " 23.43538374 23.85283035 23.87865522 24.29357675 24.32000566 24.73223639\n",
      " 24.75930445 25.16866746 25.19641311 25.60271787 25.63118332 26.03422274\n",
      " 26.06345462 26.46300129 26.49305129 26.88885276 26.91977855 27.31155118\n",
      " 27.34341737 27.73083845 27.76371782 28.14641513 28.18039007 28.55792802\n",
      " 28.5930922  28.96495329 29.0014136  29.36697318 29.40485177 29.76334337\n",
      " 29.80277976 30.15324687 30.19439947 30.53562789 30.57867403 30.9090961\n",
      " 30.95422818 31.27178714 31.31920012 31.62115964 31.6710195  31.95370517\n",
      " 32.00607648 32.26455492 32.31924173 32.54701441 32.60322227 32.79220962\n",
      " 32.847864   32.98935565 33.03987109 33.12744659 33.16403795 33.19829103]\n"
     ]
    },
    {
     "data": {
      "image/png": "[encoded data removed]",
      "text/plain": [
       "<Figure size 432x288 with 2 Axes>"
      ]
     },
     "metadata": {
      "needs_background": "light"
     },
     "output_type": "display_data"
    }
   ],
   "source": [
    "x, y = numpy.meshgrid(k_map, k_map)\n",
    "fig = plt.contourf(x, y, abs(F))\n",
    "plt.colorbar(fig)\n",
    "for i in range(0, N):\n",
    "    for j in range (0, N):\n",
    "        if (i == j):\n",
    "            F[i,j] = F[i,j] + map[j,3] - map[j,0]\n",
    "fr,v = numpy.linalg.eigh(F)\n",
    "print(fr)"
   ]
  },
  {
   "cell_type": "markdown",
   "metadata": {},
   "source": [
    "Вывод графиков зависимости квадрата плотности состояния $|\\rho^{cv}(k)|^2$, которому соответсвует честота перехода w, от волнового числа. Num - порядковый номер собственного числа (и соответствующего собственного вектора)"
   ]
  },
  {
   "cell_type": "code",
   "execution_count": 106,
   "metadata": {
    "scrolled": true
   },
   "outputs": [
    {
     "data": {
      "image/png": "[encoded data removed]",
      "text/plain": [
       "<Figure size 432x288 with 1 Axes>"
      ]
     },
     "metadata": {
      "needs_background": "light"
     },
     "output_type": "display_data"
    }
   ],
   "source": [
    "Num=0\n",
    "fig, ax = plt.subplots()\n",
    "ax.plot(k_map, (abs(v[:,Num]))**2)\n",
    "plt.show()"
   ]
  },
  {
   "cell_type": "markdown",
   "metadata": {},
   "source": [
    "Здесь будет считаться $Im (\\epsilon)$ и строиться ее график по формуле \n",
    "\n",
    "$\n",
    "\\epsilon_M=1-lim_{q->0} 4\\pi \\sum_{\\lambda} \\frac{|< c|e^{-iqr}|v > \\rho^{cv}|^2}{\\omega-\\omega_{\\lambda}+i\\mu}\n",
    "$\n",
    "\n",
    ", где $< v|e^{-iqr}|c > = \\int_{-b}^{a} \\psi^v(r) e^{-iqr} \\psi^{c*}(r) dr $, $\\mu$ отвечает за сглаживание пиков на частотах, совпадающих с собственными частотами уравнения Ванье"
   ]
  },
  {
   "cell_type": "code",
   "execution_count": null,
   "metadata": {},
   "outputs": [
    {
     "name": "stdout",
     "output_type": "stream",
     "text": [
      "(100, '% done of counting ME')\n"
     ]
    }
   ],
   "source": [
    "q=(0.1)**16\n",
    "w_map = numpy.linspace(0., 5., 1000)\n",
    "F_fr = numpy.zeros(numpy.size(w_map), dtype = complex)\n",
    "Int1 = numpy.zeros(N_r, dtype = complex)\n",
    "Int2 = numpy.zeros(N_r, dtype = complex)\n",
    "ME = numpy.zeros(N, dtype = complex)\n",
    "\n",
    "for n in range (0, N):\n",
    "    for i in range (0,N):\n",
    "        for r in range (0, N_r):\n",
    "            Int1[r] = fi[r,i,0] * fi[r,i,1].conjugate() * cmath.exp(-1.j * q * r_map[r]) / (a+b)\n",
    "        ME[n] = ME[n] + (integrate.simps(Int1,x=None,dx=h) * v[i,n])\n",
    "    ME[n] = abs(ME[n])**2\n",
    "    clear_output(wait=True)\n",
    "    print(((n+1) * 100 / numpy.size(fr)), \"% done of counting ME\")\n",
    "\n",
    "for w in range (0, numpy.size(w_map)):\n",
    "    for n in range (0, N):\n",
    "        F_fr[w] = F_fr[w] + ME[n] / (w_map[w] - fr[n] + 1.j * 0.2)\n",
    "    F_fr[w] = 1 - 4 * math.pi * F_fr[w]\n",
    "    \n",
    "fig, ax = plt.subplots()\n",
    "ax.plot(w_map,F_fr.imag)\n",
    "plt.show()"
   ]
  },
  {
   "cell_type": "code",
   "execution_count": null,
   "metadata": {},
   "outputs": [],
   "source": []
  }
 ],
 "metadata": {
  "kernelspec": {
   "display_name": "Python 2",
   "language": "python",
   "name": "python2"
  },
  "language_info": {
   "codemirror_mode": {
    "name": "ipython",
    "version": 2
   },
   "file_extension": ".py",
   "mimetype": "text/x-python",
   "name": "python",
   "nbconvert_exporter": "python",
   "pygments_lexer": "ipython2",
   "version": "2.7.15"
  }
 },
 "nbformat": 4,
 "nbformat_minor": 2
}
